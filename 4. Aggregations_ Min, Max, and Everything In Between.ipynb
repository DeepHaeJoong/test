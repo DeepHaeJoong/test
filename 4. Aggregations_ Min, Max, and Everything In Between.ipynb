{
 "cells": [
  {
   "cell_type": "markdown",
   "metadata": {},
   "source": [
    "# Chapter4 : Aggregations: Min, Max, and Everything In Between"
   ]
  },
  {
   "cell_type": "markdown",
   "metadata": {},
   "source": [
    "많은 양의 데이터가있을 때, \n",
    "\n",
    "첫 번째 단계는 해당 데이터에 대한 요약 통계를 계산하는 것입니다. \n",
    "\n",
    "가장 일반적인 요약 통계는 평균 및 표준 편차로, 데이터 세트의 \"일반\"값을 요약 할 수 있지만 다른 집계 (합계, 곱, 중간, 최소 및 최대, 분위수 등)도 유용합니다.\n",
    "\n",
    "NumPy에는 배열 작업을위한 빠른 내장 집계 함수가 있습니다. 우리는 여기에서 그들 중 일부를 토론하고 시연 할 것입니다."
   ]
  },
  {
   "cell_type": "markdown",
   "metadata": {},
   "source": [
    "## 1. Summing the Values in an Array\n",
    "빠른 예제로서 배열의 모든 값의 합을 계산하는 것을 고려하십시오. 파이썬 자체는 내장 된 sum 함수를 사용하여 이것을 할 수 있습니다 :"
   ]
  },
  {
   "cell_type": "code",
   "execution_count": 13,
   "metadata": {},
   "outputs": [
    {
     "data": {
      "text/plain": [
       "50.091168755405477"
      ]
     },
     "execution_count": 13,
     "metadata": {},
     "output_type": "execute_result"
    }
   ],
   "source": [
    "import numpy as np\n",
    "L = np.random.random(100)\n",
    "sum(L)"
   ]
  },
  {
   "cell_type": "markdown",
   "metadata": {},
   "source": [
    "\n",
    "구문은 NumPy의 sum 함수의 구문과 매우 유사하며 결과는 가장 단순한 경우와 같습니다."
   ]
  },
  {
   "cell_type": "code",
   "execution_count": 16,
   "metadata": {},
   "outputs": [
    {
     "data": {
      "text/plain": [
       "50.091168755405469"
      ]
     },
     "execution_count": 16,
     "metadata": {},
     "output_type": "execute_result"
    }
   ],
   "source": [
    "np.sum(L)"
   ]
  },
  {
   "cell_type": "markdown",
   "metadata": {},
   "source": [
    "\n",
    "그러나 컴파일 된 코드에서 연산을 실행하기 때문에 NumPy의 연산 버전은 훨씬 더 빠르게 계산됩니다."
   ]
  },
  {
   "cell_type": "code",
   "execution_count": 17,
   "metadata": {},
   "outputs": [
    {
     "name": "stdout",
     "output_type": "stream",
     "text": [
      "202 ms ± 21.9 ms per loop (mean ± std. dev. of 7 runs, 10 loops each)\n",
      "1.11 ms ± 35 µs per loop (mean ± std. dev. of 7 runs, 1000 loops each)\n"
     ]
    }
   ],
   "source": [
    "big_array = np.random.rand(1000000)\n",
    "%timeit sum(big_array)\n",
    "%timeit np.sum(big_array)"
   ]
  },
  {
   "cell_type": "markdown",
   "metadata": {},
   "source": [
    "> 주의 : sum 함수와 np.sum 함수는 동일하지 않으므로 때때로 혼동을 일으킬 수 있습니다! \n",
    "\n",
    "> 특히, 선택적 인수는 다른 의미를 가지며 np.sum은 다중 배열 차원을 인식합니다 (다음 섹션에서 보게 될 것입니다)."
   ]
  },
  {
   "cell_type": "markdown",
   "metadata": {},
   "source": [
    "## 2. Minimum and Maximum\n",
    "\n",
    "마찬가지로 Python에는 min 및 max 함수가 내장되어있어 지정된 배열의 최소값과 최대 값을 찾는 데 사용됩니다."
   ]
  },
  {
   "cell_type": "code",
   "execution_count": 18,
   "metadata": {},
   "outputs": [
    {
     "data": {
      "text/plain": [
       "(9.5200445959786606e-07, 0.99999700703698613)"
      ]
     },
     "execution_count": 18,
     "metadata": {},
     "output_type": "execute_result"
    }
   ],
   "source": [
    "min(big_array), max(big_array)"
   ]
  },
  {
   "cell_type": "markdown",
   "metadata": {},
   "source": [
    "\n",
    "NumPy의 해당 함수는 유사한 구문을 사용하며 훨씬 더 빠르게 작동합니다."
   ]
  },
  {
   "cell_type": "code",
   "execution_count": 20,
   "metadata": {
    "scrolled": true
   },
   "outputs": [
    {
     "data": {
      "text/plain": [
       "(9.5200445959786606e-07, 0.99999700703698613)"
      ]
     },
     "execution_count": 20,
     "metadata": {},
     "output_type": "execute_result"
    }
   ],
   "source": [
    "np.min(big_array), np.max(big_array)"
   ]
  },
  {
   "cell_type": "code",
   "execution_count": 21,
   "metadata": {},
   "outputs": [
    {
     "name": "stdout",
     "output_type": "stream",
     "text": [
      "78.9 ms ± 5.55 ms per loop (mean ± std. dev. of 7 runs, 10 loops each)\n",
      "498 µs ± 15 µs per loop (mean ± std. dev. of 7 runs, 1000 loops each)\n"
     ]
    }
   ],
   "source": [
    "%timeit min(big_array)\n",
    "%timeit np.min(big_array)"
   ]
  },
  {
   "cell_type": "markdown",
   "metadata": {},
   "source": [
    "min, max, sum 및 다른 여러 NumPy 집계의 경우 더 짧은 구문은 배열 객체 자체의 메서드를 사용하는 것입니다."
   ]
  },
  {
   "cell_type": "code",
   "execution_count": 22,
   "metadata": {},
   "outputs": [
    {
     "name": "stdout",
     "output_type": "stream",
     "text": [
      "9.52004459598e-07 0.999997007037 499911.877334\n"
     ]
    }
   ],
   "source": [
    "print(big_array.min(), big_array.max(), big_array.sum())"
   ]
  },
  {
   "cell_type": "markdown",
   "metadata": {},
   "source": [
    "가능할 때마다 NumPy 배열에서 작동 할 때이 집계의 NumPy 버전을 사용하고 있는지 확인하십시오!"
   ]
  },
  {
   "cell_type": "markdown",
   "metadata": {},
   "source": [
    "### 2.1 Multi dimensional aggregates\n",
    "\n",
    "\n",
    "하나의 일반적인 유형의 집계 연산은 행 또는 열에 따른 집계입니다. 2 차원 배열에 저장된 데이터가 있다고 가정 해보십시오."
   ]
  },
  {
   "cell_type": "code",
   "execution_count": 23,
   "metadata": {},
   "outputs": [
    {
     "name": "stdout",
     "output_type": "stream",
     "text": [
      "[[ 0.78564999  0.9949205   0.55809849  0.59606209]\n",
      " [ 0.75212763  0.33710393  0.79757519  0.66449195]\n",
      " [ 0.72201762  0.44899387  0.97611193  0.47518722]]\n"
     ]
    }
   ],
   "source": [
    "M = np.random.random((3, 4))\n",
    "print(M)"
   ]
  },
  {
   "cell_type": "markdown",
   "metadata": {},
   "source": [
    "#### 1. 기본적으로 각 NumPy 집계 함수는 전체 배열에 대해 집계를 반환합니다."
   ]
  },
  {
   "cell_type": "code",
   "execution_count": 25,
   "metadata": {},
   "outputs": [
    {
     "data": {
      "text/plain": [
       "8.1083404036935498"
      ]
     },
     "execution_count": 25,
     "metadata": {},
     "output_type": "execute_result"
    }
   ],
   "source": [
    "M.sum()"
   ]
  },
  {
   "cell_type": "markdown",
   "metadata": {},
   "source": [
    "#### 2. 집계 함수는 집계가 계산되는 축을 지정하는 추가 인수를 취합니다. 예를 들어, axis = 0을 지정하면 각 열 내의 최소값을 찾을 수 있습니다."
   ]
  },
  {
   "cell_type": "code",
   "execution_count": 26,
   "metadata": {},
   "outputs": [
    {
     "data": {
      "text/plain": [
       "array([ 0.72201762,  0.33710393,  0.55809849,  0.47518722])"
      ]
     },
     "execution_count": 26,
     "metadata": {},
     "output_type": "execute_result"
    }
   ],
   "source": [
    "M.min(axis=0)"
   ]
  },
  {
   "cell_type": "markdown",
   "metadata": {},
   "source": [
    "이 함수는 네 개의 숫자 열에 해당하는 네 개의 값을 반환합니다.\n",
    "\n",
    "마찬가지로 각 행에서 최대 값을 찾을 수 있습니다."
   ]
  },
  {
   "cell_type": "code",
   "execution_count": 27,
   "metadata": {},
   "outputs": [
    {
     "data": {
      "text/plain": [
       "array([ 0.9949205 ,  0.79757519,  0.97611193])"
      ]
     },
     "execution_count": 27,
     "metadata": {},
     "output_type": "execute_result"
    }
   ],
   "source": [
    "M.max(axis=1)"
   ]
  },
  {
   "cell_type": "markdown",
   "metadata": {},
   "source": [
    "> TIP : 여기서 축을 지정하는 방법은 다른 언어에서 오는 사용자에게 혼동을 줄 수 있습니다. axis 키워드는 반환 될 차원 대신 축소 할 배열의 차원을 지정합니다. 따라서 axis = 0을 지정하면 첫 번째 축을 축소합니다. 즉, 2 차원 배열의 경우 각 열의 값이 집계됩니다."
   ]
  },
  {
   "cell_type": "markdown",
   "metadata": {},
   "source": [
    "### 2.2 Other aggregation functions\n",
    "\n",
    "NumPy는 다른 많은 집계 함수를 제공하지만 여기서 자세히 설명하지 않겠습니다. 또한 대부분의 집계에는 누락 된 값을 무시하면서 결과를 계산하는 NaN 안전 카운터가 있습니다 (누락 된 데이터에 대한 자세한 설명은 누락 된 데이터 처리 참조). 이 NaN-safe 함수 중 일부는 NumPy 1.8까지 추가되지 않았으므로 이전 NumPy 버전에서는 사용할 수 없습니다.\n",
    "\n",
    "\n",
    "                                     다음 표는 NumPy에서 사용할 수있는 유용한 집계 함수 목록을 제공합니다.\n",
    "\n",
    "\n",
    "Function Name | NaN-safe | Version Description\n",
    "-------- |-------- |-------- |-------- |-------- |\n",
    "np.sum   |np.nansum |\tCompute sum of elements\n",
    "np.prod\t |np.nanprod |\tCompute product of elements\n",
    "np.mean\t |np.nanmean |\tCompute mean of elements\n",
    "np.std\t |np.nanstd |\tCompute standard deviation\n",
    "np.var\t |np.nanvar |\tCompute variance\n",
    "np.min\t | np.nanmin |\tFind minimum value\n",
    "np.max\t |np.nanmax |\tFind maximum value\n",
    "np.argmin|\tnp.nanargmin |\tFind index of minimum value\n",
    "np.argmax|\tnp.nanargmax |\tFind index of maximum value\n",
    "np.median|\tnp.nanmedian |\tCompute median of elements\n",
    "np.percentile|\tnp.nanpercentile |\tCompute rank-based statistics of elements\n",
    "np.any   | N/A | Evaluate whether any elements are true\n",
    "np.all\t | N/A | Evaluate whether all elements are true\n",
    "\n",
    "\n",
    "We will see these aggregates often throughout the rest of the book."
   ]
  },
  {
   "cell_type": "markdown",
   "metadata": {},
   "source": [
    "## 3. EX : 미국 대통령의 평균 신장은 얼마입니까?"
   ]
  },
  {
   "cell_type": "markdown",
   "metadata": {},
   "source": [
    "NumPy에서 사용할 수있는 집계는 일련의 값을 요약하는 데 매우 유용합니다."
   ]
  },
  {
   "cell_type": "code",
   "execution_count": 31,
   "metadata": {
    "collapsed": true
   },
   "outputs": [],
   "source": [
    "heights = np.array([189, 170, 189, 163, 183, 171, 185, 168, 173, 183, 173, 173, 175, 178, 183, 193, 178, 173,\n",
    " 174, 183, 183, 168, 170, 178, 182, 180, 183, 178, 182, 188, 175, 179, 183, 193, 182, 183,\n",
    " 177, 185, 188, 188, 182, 185])"
   ]
  },
  {
   "cell_type": "markdown",
   "metadata": {},
   "source": [
    "이제이 데이터 배열을 가지고 다양한 요약 통계를 계산할 수 있습니다."
   ]
  },
  {
   "cell_type": "code",
   "execution_count": 33,
   "metadata": {},
   "outputs": [
    {
     "name": "stdout",
     "output_type": "stream",
     "text": [
      "Mean height:        179.738095238\n",
      "Standard deviation: 6.93184344275\n",
      "Minimum height:     163\n",
      "Maximum height:     193\n"
     ]
    }
   ],
   "source": [
    "print(\"Mean height:       \", heights.mean())\n",
    "print(\"Standard deviation:\", heights.std())\n",
    "print(\"Minimum height:    \", heights.min())\n",
    "print(\"Maximum height:    \", heights.max())"
   ]
  },
  {
   "cell_type": "markdown",
   "metadata": {},
   "source": [
    "각각의 경우에, 집계 연산은 전체 배열을 단일 요약 값으로 감소시켜 값의 분포에 대한 정보를 제공합니다. \n",
    "\n",
    "또한 quantile을 계산할 수도 있습니다."
   ]
  },
  {
   "cell_type": "code",
   "execution_count": 35,
   "metadata": {},
   "outputs": [
    {
     "name": "stdout",
     "output_type": "stream",
     "text": [
      "25th percentile:    174.25\n",
      "Median:             182.0\n",
      "75th percentile:    183.0\n"
     ]
    }
   ],
   "source": [
    "print(\"25th percentile:   \", np.percentile(heights, 25))\n",
    "print(\"Median:            \", np.median(heights))\n",
    "print(\"75th percentile:   \", np.percentile(heights, 75))"
   ]
  },
  {
   "cell_type": "markdown",
   "metadata": {},
   "source": [
    "\n",
    "우리는 미국 대통령의 중앙값이 182cm이거나 단지 6 피트 밖에 안된다는 것을 알 수 있습니다.\n",
    "\n",
    "물론 Matplotlib에서 도구를 사용하여이 데이터를 시각적으로 표시하는 것이 더 유용 할 수도 있습니다 (4 장에서 Matplotlib에 대해 더 자세히 설명합니다). 예를 들어,이 코드는 다음 차트를 생성합니다."
   ]
  },
  {
   "cell_type": "code",
   "execution_count": 37,
   "metadata": {},
   "outputs": [
    {
     "data": {
      "image/png": "[encoded data removed]",
      "text/plain": [
       "<matplotlib.figure.Figure at 0x12df5934a58>"
      ]
     },
     "metadata": {},
     "output_type": "display_data"
    }
   ],
   "source": [
    "%matplotlib inline\n",
    "import matplotlib.pyplot as plt\n",
    "import seaborn; seaborn.set()  # set plot style\n",
    "\n",
    "plt.hist(heights)\n",
    "plt.title('Height Distribution of US Presidents')\n",
    "plt.xlabel('height (cm)')\n",
    "plt.ylabel('number');"
   ]
  },
  {
   "cell_type": "markdown",
   "metadata": {},
   "source": [
    "\n",
    "이 집계는 탐색 데이터 분석의 기본 부분 중 일부로서 나중에 책의 장에서 자세히 설명합니다."
   ]
  }
 ],
 "metadata": {
  "kernelspec": {
   "display_name": "Python 3",
   "language": "python",
   "name": "python3"
  },
  "language_info": {
   "codemirror_mode": {
    "name": "ipython",
    "version": 3
   },
   "file_extension": ".py",
   "mimetype": "text/x-python",
   "name": "python",
   "nbconvert_exporter": "python",
   "pygments_lexer": "ipython3",
   "version": "3.6.3"
  }
 },
 "nbformat": 4,
 "nbformat_minor": 2
}
