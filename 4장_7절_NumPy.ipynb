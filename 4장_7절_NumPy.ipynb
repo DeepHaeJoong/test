{
 "cells": [
  {
   "cell_type": "markdown",
   "metadata": {},
   "source": [
    "# 4장: 파이썬을 이용한 데이터 분석\n",
    "\n",
    "## 7절: NumPy를 사용한 벡터와 행렬연산\n",
    "\n",
    "### 01. 배열 사용하기"
   ]
  },
  {
   "cell_type": "markdown",
   "metadata": {},
   "source": [
    "### 연습 문제 1\n",
    "\n",
    "다음과 같은 행렬을 만든다\n",
    "\n",
    "10 20 30 40\n",
    "\n",
    "50 60 70 80"
   ]
  },
  {
   "cell_type": "code",
   "execution_count": 3,
   "metadata": {
    "collapsed": true
   },
   "outputs": [],
   "source": [
    "import numpy as np\n",
    "b = np.array([[10, 20, 30, 40], [50, 60, 70, 80]])"
   ]
  },
  {
   "cell_type": "code",
   "execution_count": 7,
   "metadata": {},
   "outputs": [
    {
     "data": {
      "text/plain": [
       "array([[10, 20, 30, 40],\n",
       "       [50, 60, 70, 80]])"
      ]
     },
     "execution_count": 7,
     "metadata": {},
     "output_type": "execute_result"
    }
   ],
   "source": [
    "b"
   ]
  },
  {
   "cell_type": "markdown",
   "metadata": {},
   "source": [
    "### 연습 문제 2\n",
    "\n",
    "다음 행렬과 같은 행렬이 있다.\n",
    "\n",
    "m = np.array([[ 0,  1,  2,  3,  4],\n",
    "\n",
    "              [ 5,  6,  7,  8,  9],\n",
    "              \n",
    "              [10, 11, 12, 13, 14]])\n",
    "              \n",
    "1. 이 행렬에서 값 7 을 인덱싱한다.\n",
    "\n",
    "2. 이 행렬에서 값 14 을 인덱싱한다.\n",
    "\n",
    "3. 이 행렬에서 배열 [6, 7] 을 슬라이싱한다.\n",
    "\n",
    "4. 이 행렬에서 배열 [7, 12] 을 슬라이싱한다.\n",
    "\n",
    "5. 이 행렬에서 배열 [[3, 4], [8, 9]] 을 슬라이싱한다."
   ]
  },
  {
   "cell_type": "code",
   "execution_count": 9,
   "metadata": {
    "collapsed": true
   },
   "outputs": [],
   "source": [
    "m = np.array([[ 0, 1, 2, 3, 4],\n",
    "          [ 5,  6,  7,  8,  9],\n",
    "          [10, 11, 12, 13, 14]])"
   ]
  },
  {
   "cell_type": "code",
   "execution_count": 12,
   "metadata": {},
   "outputs": [
    {
     "data": {
      "text/plain": [
       "7"
      ]
     },
     "execution_count": 12,
     "metadata": {},
     "output_type": "execute_result"
    }
   ],
   "source": [
    "# 1. \n",
    "m[1,2]"
   ]
  },
  {
   "cell_type": "code",
   "execution_count": 25,
   "metadata": {},
   "outputs": [
    {
     "data": {
      "text/plain": [
       "14"
      ]
     },
     "execution_count": 25,
     "metadata": {},
     "output_type": "execute_result"
    }
   ],
   "source": [
    "# 2\n",
    "m[-1, -1]\n",
    "m[2, 4]"
   ]
  },
  {
   "cell_type": "code",
   "execution_count": 27,
   "metadata": {},
   "outputs": [
    {
     "data": {
      "text/plain": [
       "array([6, 7])"
      ]
     },
     "execution_count": 27,
     "metadata": {},
     "output_type": "execute_result"
    }
   ],
   "source": [
    "# 3\n",
    "m[1,1:3]"
   ]
  },
  {
   "cell_type": "code",
   "execution_count": 42,
   "metadata": {},
   "outputs": [
    {
     "data": {
      "text/plain": [
       "array([[ 7],\n",
       "       [12]])"
      ]
     },
     "execution_count": 42,
     "metadata": {},
     "output_type": "execute_result"
    }
   ],
   "source": [
    "# 4\n",
    "m[1:,2:3]"
   ]
  },
  {
   "cell_type": "code",
   "execution_count": 38,
   "metadata": {},
   "outputs": [
    {
     "data": {
      "text/plain": [
       "array([[3, 4],\n",
       "       [8, 9]])"
      ]
     },
     "execution_count": 38,
     "metadata": {},
     "output_type": "execute_result"
    }
   ],
   "source": [
    "# 5\n",
    "m[0:2,3:5]"
   ]
  },
  {
   "cell_type": "markdown",
   "metadata": {},
   "source": [
    "### 연습 문제 3\n",
    "\n",
    "다음 행렬과 같은 배열이 있다.\n",
    "\n",
    "x = np.array([1, 2, 3, 4, 5, 6, 7, 8, 9, 10,\n",
    "\n",
    "              11, 12, 13, 14, 15, 16, 17, 18, 19, 20])\n",
    "\n",
    "1. 이 배열에서 3의 배수를 찾아라.\n",
    "2. 이 배열에서 4로 나누면 1이 남는 수를 찾아라.\n",
    "3. 이 배열에서 3으로 나누면 나누어지고 4로 나누면 1이 남는 수를 찾아라."
   ]
  },
  {
   "cell_type": "code",
   "execution_count": 13,
   "metadata": {
    "collapsed": true
   },
   "outputs": [],
   "source": [
    "X = np.array([1, 2, 3, 4, 5, 6, 7, 8, 9, 10, 11, 12, 13, 14, 15, 16, 17, 18, 19, 20])"
   ]
  },
  {
   "cell_type": "code",
   "execution_count": 24,
   "metadata": {},
   "outputs": [
    {
     "data": {
      "text/plain": [
       "array([ 3,  6,  9, 12, 15, 18])"
      ]
     },
     "execution_count": 24,
     "metadata": {},
     "output_type": "execute_result"
    }
   ],
   "source": [
    "# 1\n",
    "X[X % 3 == 0]"
   ]
  },
  {
   "cell_type": "code",
   "execution_count": 22,
   "metadata": {},
   "outputs": [
    {
     "data": {
      "text/plain": [
       "array([ 1,  5,  9, 13, 17])"
      ]
     },
     "execution_count": 22,
     "metadata": {},
     "output_type": "execute_result"
    }
   ],
   "source": [
    "# 2\n",
    "X[(X % 4 == 1)]"
   ]
  },
  {
   "cell_type": "code",
   "execution_count": 25,
   "metadata": {},
   "outputs": [
    {
     "data": {
      "text/plain": [
       "array([9])"
      ]
     },
     "execution_count": 25,
     "metadata": {},
     "output_type": "execute_result"
    }
   ],
   "source": [
    "# 3\n",
    "X[(X % 3 == 0) & (X % 4 == 1)]"
   ]
  },
  {
   "cell_type": "markdown",
   "metadata": {},
   "source": [
    "### 02. NumPy 배열의 생성과 변형"
   ]
  },
  {
   "cell_type": "markdown",
   "metadata": {},
   "source": [
    "### 연습 문제 1"
   ]
  },
  {
   "cell_type": "raw",
   "metadata": {},
   "source": [
    "\n",
    "지금까지 공부한 명령어를 사용하여 다음과 같은 배열을 만들어라.\n",
    "\n",
    "array([[   0.,    0.,    0.,    1.,    1.],\n",
    "       [   0.,    0.,    0.,    1.,    1.],\n",
    "       [   0.,    0.,    0.,    1.,    1.],\n",
    "       [  10.,   20.,   30.,   40.,   50.],\n",
    "       [  60.,   70.,   80.,   90.,  100.],\n",
    "       [ 110.,  120.,  130.,  140.,  150.],\n",
    "       [   0.,    0.,    0.,    1.,    1.],\n",
    "       [   0.,    0.,    0.,    1.,    1.],\n",
    "       [   0.,    0.,    0.,    1.,    1.],\n",
    "       [  10.,   20.,   30.,   40.,   50.],\n",
    "       [  60.,   70.,   80.,   90.,  100.],\n",
    "       [ 110.,  120.,  130.,  140.,  150.]])"
   ]
  },
  {
   "cell_type": "code",
   "execution_count": 60,
   "metadata": {
    "scrolled": false
   },
   "outputs": [
    {
     "data": {
      "text/plain": [
       "array([[   0.,    0.,    0.,    1.,    1.],\n",
       "       [   0.,    0.,    0.,    1.,    1.],\n",
       "       [   0.,    0.,    0.,    1.,    1.],\n",
       "       [  10.,   20.,   30.,   40.,   50.],\n",
       "       [  60.,   70.,   80.,   90.,  100.],\n",
       "       [ 110.,  120.,  130.,  140.,  150.],\n",
       "       [   0.,    0.,    0.,    1.,    1.],\n",
       "       [   0.,    0.,    0.,    1.,    1.],\n",
       "       [   0.,    0.,    0.,    1.,    1.],\n",
       "       [  10.,   20.,   30.,   40.,   50.],\n",
       "       [  60.,   70.,   80.,   90.,  100.],\n",
       "       [ 110.,  120.,  130.,  140.,  150.]])"
      ]
     },
     "execution_count": 60,
     "metadata": {},
     "output_type": "execute_result"
    }
   ],
   "source": [
    "import numpy as np\n",
    "a = np.zeros(3)\n",
    "\n",
    "b = np.ones(2)\n",
    "\n",
    "c = np.linspace(10, 150, 15)\n",
    "\n",
    "d = c.reshape(3,5)\n",
    "\n",
    "a_b = np.hstack((a,b))\n",
    "\n",
    "a_b_3 = np.vstack((a_b, a_b, a_b))\n",
    "\n",
    "a_b_3_d = np.vstack((a_b_3, d))\n",
    "\n",
    "a_b_3_d_2 = np.vstack((a_b_3_d, a_b_3_d))\n",
    "\n",
    "a_b_3_d_2"
   ]
  },
  {
   "cell_type": "markdown",
   "metadata": {},
   "source": [
    "### 03. NumPy 배열의 연산"
   ]
  },
  {
   "cell_type": "markdown",
   "metadata": {},
   "source": [
    "### 04. NumPy의 통계 함수"
   ]
  },
  {
   "cell_type": "markdown",
   "metadata": {},
   "source": [
    "### 05. 난수 발생과 카운팅"
   ]
  },
  {
   "cell_type": "raw",
   "metadata": {},
   "source": [
    "### /* C code */\n",
    "int result = 0;\n",
    "for(int i=0; i<100; i++){\n",
    "    result += i;\n",
    "}"
   ]
  },
  {
   "cell_type": "code",
   "execution_count": 4,
   "metadata": {
    "collapsed": true
   },
   "outputs": [],
   "source": [
    "import numpy as np\n"
   ]
  },
  {
   "cell_type": "code",
   "execution_count": 7,
   "metadata": {},
   "outputs": [
    {
     "ename": "SyntaxError",
     "evalue": "invalid syntax (<ipython-input-7-0f40127117db>, line 1)",
     "output_type": "error",
     "traceback": [
      "\u001b[1;36m  File \u001b[1;32m\"<ipython-input-7-0f40127117db>\"\u001b[1;36m, line \u001b[1;32m1\u001b[0m\n\u001b[1;33m    struct _longobject {\u001b[0m\n\u001b[1;37m                     ^\u001b[0m\n\u001b[1;31mSyntaxError\u001b[0m\u001b[1;31m:\u001b[0m invalid syntax\n"
     ]
    }
   ],
   "source": [
    "struct _longobject {\n",
    "    long ob_refcnt;\n",
    "    PyTypeObject *ob_type;\n",
    "    size_t ob_size;\n",
    "    long ob_digit[1];\n",
    "};"
   ]
  },
  {
   "cell_type": "code",
   "execution_count": 11,
   "metadata": {},
   "outputs": [
    {
     "data": {
      "text/plain": [
       "[0, 1, 2, 3, 4, 5, 6, 7, 8, 9]"
      ]
     },
     "execution_count": 11,
     "metadata": {},
     "output_type": "execute_result"
    }
   ],
   "source": [
    "L = list(range(10))\n",
    "L"
   ]
  },
  {
   "cell_type": "code",
   "execution_count": 13,
   "metadata": {},
   "outputs": [
    {
     "data": {
      "text/plain": [
       "['0', '1', '2', '3', '4', '5', '6', '7', '8', '9']"
      ]
     },
     "execution_count": 13,
     "metadata": {},
     "output_type": "execute_result"
    }
   ],
   "source": [
    "[str(c) for c in L]"
   ]
  },
  {
   "cell_type": "markdown",
   "metadata": {},
   "source": [
    "---"
   ]
  },
  {
   "cell_type": "code",
   "execution_count": 1,
   "metadata": {},
   "outputs": [
    {
     "name": "stdout",
     "output_type": "stream",
     "text": [
      "\n",
      "The following command must be run outside of the IPython shell:\n",
      "\n",
      "    $ pip install jupyterthemes\n",
      "\n",
      "The Python package manager (pip) can only be used from outside of IPython.\n",
      "Please reissue the `pip` command in a separate terminal or command prompt.\n",
      "\n",
      "See the Python documentation for more informations on how to install packages:\n",
      "\n",
      "    https://docs.python.org/3/installing/\n"
     ]
    }
   ],
   "source": [
    "pip install jupyterthemes"
   ]
  },
  {
   "cell_type": "code",
   "execution_count": 4,
   "metadata": {},
   "outputs": [
    {
     "data": {
      "text/plain": [
       "array([[ 0.77043937, -0.95934904,  0.6624248 ,  0.52519942,  0.7866194 ],\n",
       "       [-0.51972374,  0.70328364, -1.60374144,  0.18410482,  1.02836772],\n",
       "       [ 2.20622804,  0.00837328,  0.00648998, -1.61446945,  0.27698256]])"
      ]
     },
     "execution_count": 4,
     "metadata": {},
     "output_type": "execute_result"
    }
   ],
   "source": [
    "import numpy as np\n",
    "np.random.normal(0, 1, (3, 5))"
   ]
  },
  {
   "cell_type": "code",
   "execution_count": 9,
   "metadata": {},
   "outputs": [
    {
     "data": {
      "text/plain": [
       "32768.0"
      ]
     },
     "execution_count": 9,
     "metadata": {},
     "output_type": "execute_result"
    }
   ],
   "source": []
  }
 ],
 "metadata": {
  "kernelspec": {
   "display_name": "Python 3",
   "language": "python",
   "name": "python3"
  },
  "language_info": {
   "codemirror_mode": {
    "name": "ipython",
    "version": 3
   },
   "file_extension": ".py",
   "mimetype": "text/x-python",
   "name": "python",
   "nbconvert_exporter": "python",
   "pygments_lexer": "ipython3",
   "version": "3.6.3"
  }
 },
 "nbformat": 4,
 "nbformat_minor": 2
}
