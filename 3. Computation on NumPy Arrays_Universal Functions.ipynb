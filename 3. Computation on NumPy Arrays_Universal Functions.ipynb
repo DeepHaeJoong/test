{
 "cells": [
  {
   "cell_type": "markdown",
   "metadata": {},
   "source": [
    "# Chapter 3 : Computation on NumPy Arrays: Universal Functions\n",
    "\n",
    "지금까지 NumPy의 기본 견본과 볼트에 대해 논의 해 왔습니다. 다음 몇 섹션에서 우리는 NumPy가 파이썬 데이터 과학 세계에서 그토록 중요한 이유에 대해 살펴볼 것입니다. 즉, 데이터 배열을 사용하여 최적화 된 계산에 쉽고 유연한 인터페이스를 제공합니다.\n",
    "\n",
    "NumPy 배열의 계산은 매우 빠르거나 느릴 수 있습니다. 속도를 높이려면 일반적으로 NumPy의 범용 함수 (ufunc)를 통해 구현되는 벡터화 된 연산을 사용하는 것이 중요합니다. 이 섹션은 NumPy의 ufuncs에 대한 필요성을 자극합니다.이 ufunc는 배열 요소에 대한 반복 계산을 훨씬 효율적으로 만드는 데 사용할 수 있습니다. 그런 다음 NumPy 패키지에서 사용할 수있는 가장 일반적이며 유용한 산술 ufuncs를 소개합니다."
   ]
  },
  {
   "cell_type": "markdown",
   "metadata": {},
   "source": [
    "## 1. The Slowness of Loops\n",
    "\n",
    "파이썬의 기본 구현 (CPython)은 일부 연산을 매우 느리게 수행합니다. 이는 부분적으로 언어의 동적 해석 특성에 기인합니다. 유형이 유연하므로 C 및 Fortran과 같은 언어에서와 같이 효율적인 작업 코드를 컴파일 할 수 없습니다. 최근에이 취약점을 해결하기위한 다양한 시도가있었습니다. 잘 알려진 예는 Python의 Just-In-Time 컴파일 된 구현 인 PyPy 프로젝트입니다. 파이썬 코드를 컴파일 가능한 C 코드로 변환하는 Cython 프로젝트; 그리고 Numba 프로젝트는 파이썬 코드 조각을 빠른 LLVM 바이트 코드로 변환합니다. 이들 각각은 강점과 약점을 가지고 있지만 세 가지 접근법 중 어느 것도 표준 CPython 엔진의 도달 범위와 인기를 능가하지 못했다고 말하는 것이 안전합니다.\n",
    "\n",
    "상대적으로 느린 파이썬은 일반적으로 많은 작은 연산이 반복되는 상황에서 나타납니다 - 예를 들어 배열을 반복하여 각 요소를 연산하는 경우. 예를 들어, 우리가 값의 배열을 가지고 있다고 가정하고 각각의 역수를 계산하려고합니다. 간단한 접근 방식은 다음과 같이 보일 수 있습니다."
   ]
  },
  {
   "cell_type": "code",
   "execution_count": 1,
   "metadata": {},
   "outputs": [
    {
     "data": {
      "text/plain": [
       "array([ 0.16666667,  1.        ,  0.25      ,  0.25      ,  0.125     ])"
      ]
     },
     "execution_count": 1,
     "metadata": {},
     "output_type": "execute_result"
    }
   ],
   "source": [
    "import numpy as np\n",
    "np.random.seed(0)\n",
    "\n",
    "def compute_reciprocals(values):\n",
    "    output = np.empty(len(values))\n",
    "    for i in range(len(values)):\n",
    "        output[i] = 1.0 / values[i]\n",
    "    return output\n",
    "        \n",
    "values = np.random.randint(1, 10, size=5)\n",
    "compute_reciprocals(values)"
   ]
  },
  {
   "cell_type": "markdown",
   "metadata": {},
   "source": [
    "\n",
    "이 구현은 아마도 C 또는 Java 배경의 누군가에게 상당히 자연스럽게 느껴질 것입니다. 그러나 큰 입력에 대해이 코드의 실행 시간을 측정하면이 작업이 매우 느리고 어쩌면 놀랍습니다! 우리는 IPython의 % timeit 마법 (Profiling and Timing Code에서 논의 됨)으로 이것을 벤치마킹 할 것이다 :"
   ]
  },
  {
   "cell_type": "code",
   "execution_count": 2,
   "metadata": {},
   "outputs": [
    {
     "name": "stdout",
     "output_type": "stream",
     "text": [
      "1.65 s ± 37.8 ms per loop (mean ± std. dev. of 7 runs, 1 loop each)\n"
     ]
    }
   ],
   "source": [
    "big_array = np.random.randint(1, 100, size=1000000)\n",
    "%timeit compute_reciprocals(big_array)"
   ]
  },
  {
   "cell_type": "markdown",
   "metadata": {},
   "source": [
    "수백만 건의 연산을 계산하고 결과를 저장하는 데 몇 초가 걸립니다! 휴대폰도 Giga-FLOPS (즉, 초당 수십억 개의 수치 연산)로 측정 된 처리 속도를 갖는 경우, 이는 거의 터무니없이 느린 것 같습니다. 여기서 병목 현상은 연산 그 자체가 아니라 CPython이 루프의 각 사이클에서 수행해야하는 유형 확인 및 함수 디스패치입니다. 역수가 계산 될 때마다 Python은 먼저 객체의 유형을 검사하고 해당 유형에 사용할 올바른 함수를 동적으로 조회합니다. 대신 컴파일 된 코드에서 작업하는 경우 코드가 실행되기 전에이 형식 지정을 알 수 있으므로 결과를 훨씬 더 효율적으로 계산할 수 있습니다."
   ]
  },
  {
   "cell_type": "markdown",
   "metadata": {},
   "source": [
    "## 2. Introducing UFuncs"
   ]
  },
  {
   "cell_type": "markdown",
   "metadata": {},
   "source": [
    "많은 유형의 연산에서 NumPy는 이러한 종류의 정적으로 유형화되고 컴파일 된 루틴에 편리한 인터페이스를 제공합니다. 이를 벡터화 연산이라고합니다. 이것은 배열에 대한 연산을 수행하여 각 요소에 적용함으로써 수행 할 수 있습니다. 이 벡터화 된 접근법은 루프를 NumPy의 기초가되는 컴파일 된 레이어로 밀어 넣기 때문에 훨씬 빠른 실행이 가능합니다.\n",
    "\n",
    "Compare the results of the following two:"
   ]
  },
  {
   "cell_type": "code",
   "execution_count": 3,
   "metadata": {},
   "outputs": [
    {
     "name": "stdout",
     "output_type": "stream",
     "text": [
      "[ 0.16666667  1.          0.25        0.25        0.125     ]\n",
      "[ 0.16666667  1.          0.25        0.25        0.125     ]\n"
     ]
    }
   ],
   "source": [
    "print(compute_reciprocals(values))\n",
    "print(1.0 / values)\n"
   ]
  },
  {
   "cell_type": "markdown",
   "metadata": {},
   "source": [
    "대규모 배열의 실행 시간을 살펴보면 파이썬 루프보다 훨씬 빠르게 명령을 완료합니다."
   ]
  },
  {
   "cell_type": "code",
   "execution_count": 4,
   "metadata": {},
   "outputs": [
    {
     "name": "stdout",
     "output_type": "stream",
     "text": [
      "3.01 ms ± 85.7 µs per loop (mean ± std. dev. of 7 runs, 100 loops each)\n"
     ]
    }
   ],
   "source": [
    "%timeit (1.0 / big_array)"
   ]
  },
  {
   "cell_type": "markdown",
   "metadata": {},
   "source": [
    "NumPy의 벡터화 된 연산은 uFuncs를 통해 구현됩니다.이 주요 목적은 NumPy 배열의 값에 대해 반복되는 연산을 신속하게 실행하는 것입니다. Ufunc는 매우 유연합니다. 스칼라와 배열 사이에서 작업을하기 전에 두 배열 사이에서 작업 할 수 있습니다."
   ]
  },
  {
   "cell_type": "code",
   "execution_count": null,
   "metadata": {
    "collapsed": true
   },
   "outputs": [],
   "source": [
    "np.arange(5) / np.arange(1, 6)"
   ]
  },
  {
   "cell_type": "markdown",
   "metadata": {},
   "source": [
    "그리고 ufunc 연산은 1 차원 배열에만 국한되지 않고 다차원 배열에서도 작동 할 수 있습니다."
   ]
  },
  {
   "cell_type": "code",
   "execution_count": null,
   "metadata": {
    "collapsed": true
   },
   "outputs": [],
   "source": [
    "x = np.arange(9).reshape((3, 3))\n",
    "2 ** x"
   ]
  },
  {
   "cell_type": "markdown",
   "metadata": {},
   "source": [
    "\n",
    "ufunc를 통한 벡터화를 사용하는 계산은 특히 배열의 크기가 커짐에 따라 Python 루프를 사용하여 구현 된 대응보다 훨씬 효율적입니다. 파이썬 스크립트에서 이러한 루프를 볼 때마다 벡터화 된 표현식으로 바꿀 수 있는지 여부를 고려해야합니다."
   ]
  },
  {
   "cell_type": "markdown",
   "metadata": {},
   "source": [
    "## 3. Exploring NumPy's UFuncs \n",
    "\n",
    "Ufuncs는 단일 입력에서 작동하는 단항 ufuncs와 두 입력에서 작동하는 이진 ufuncs의 두 가지 유형으로 존재합니다. 이 두 가지 유형의 함수에 대한 예제가 여기에 표시됩니다."
   ]
  },
  {
   "cell_type": "markdown",
   "metadata": {},
   "source": [
    "### 3.1 Array arithmetic (배열 산술)\n",
    "\n",
    "NumPy의 ufuncs는 Python의 고유 한 산술 연산자를 사용하기 때문에 매우 자연 스럽다고 느낍니다.\n",
    "+ 더하기\n",
    "+ 빼기\n",
    "+ 곱하기 \n",
    "+ 나눗셈"
   ]
  },
  {
   "cell_type": "code",
   "execution_count": null,
   "metadata": {
    "collapsed": true
   },
   "outputs": [],
   "source": [
    "x = np.arange(4)\n",
    "print(\"x     =\", x)\n",
    "print(\"x + 5 =\", x + 5)\n",
    "print(\"x - 5 =\", x - 5)\n",
    "print(\"x * 2 =\", x * 2)\n",
    "print(\"x / 2 =\", x / 2)\n",
    "print(\"x // 2 =\", x // 2)  # floor division"
   ]
  },
  {
   "cell_type": "markdown",
   "metadata": {},
   "source": [
    "+ 음수를 위한 단항 ufunc와 \n",
    "+ 지수 연산을위한 ** 연산자\n",
    "+ 모듈러스의 % 연산자가 있습니다"
   ]
  },
  {
   "cell_type": "code",
   "execution_count": null,
   "metadata": {
    "collapsed": true
   },
   "outputs": [],
   "source": [
    "print(\"-x     = \", -x) # 음수\n",
    "print(\"x ** 2 = \", x ** 2) # 제곱\n",
    "print(\"x % 2  = \", x % 2) # 나머지"
   ]
  },
  {
   "cell_type": "markdown",
   "metadata": {},
   "source": [
    "\n",
    "또한 원하는 경우이 둘을 함께 연결할 수 있으며 **표준 작업 순서** 를 준수합니다.\n",
    "\n",
    "파이썬에서도 일반 수학의 연산 순서를 따른다. 즉, 곱셈과 나눗셈을 덧셈이나 뺄셈보다 먼저 한다.\n",
    "\n",
    "+ \"+\"  : 키보드 +\n",
    "+ \"−\"  : 키보드 -\n",
    "+ \"×\"  : 키보드 *\n",
    "+ \"÷\"  (몫을 구하기) : 키보드 // (두 글자로 된 연산기호이므로 띄우지 않고 연속해서 기호를 타이핑한다.)\n",
    "+ \"÷\"  (소수점까지 나누기) : 키보드 /\n",
    "+ 나머지 : 키보드 %\n",
    "+ 제곱 : 키보드 **"
   ]
  },
  {
   "cell_type": "code",
   "execution_count": null,
   "metadata": {
    "collapsed": true
   },
   "outputs": [],
   "source": [
    "-(0.5*x + 1) ** 2"
   ]
  },
  {
   "cell_type": "code",
   "execution_count": null,
   "metadata": {
    "collapsed": true,
    "scrolled": true
   },
   "outputs": [],
   "source": [
    "# 이러한 산술 연산 각각은 NumPy에 내장 된 특정 함수를 둘러싼 편리한 래퍼입니다. 예를 들어 + 연산자는 add 함수의 래퍼입니다.\n",
    "np.add(x, 2)"
   ]
  },
  {
   "cell_type": "raw",
   "metadata": {},
   "source": [
    "The following table lists the arithmetic operators implemented in NumPy:\n",
    "\n",
    "Operator\tEquivalent ufunc\tDescription\n",
    "+\tnp.add\tAddition (e.g., 1 + 1 = 2)\n",
    "-\tnp.subtract\tSubtraction (e.g., 3 - 2 = 1)\n",
    "-\tnp.negative\tUnary negation (e.g., -2)\n",
    "*\tnp.multiply\tMultiplication (e.g., 2 * 3 = 6)\n",
    "/\tnp.divide\tDivision (e.g., 3 / 2 = 1.5)\n",
    "//\tnp.floor_divide\tFloor division (e.g., 3 // 2 = 1)\n",
    "**\tnp.power\tExponentiation (e.g., 2 ** 3 = 8)\n",
    "%\tnp.mod\tModulus/remainder (e.g., 9 % 4 = 1)"
   ]
  },
  {
   "cell_type": "markdown",
   "metadata": {},
   "source": [
    "### 3.2 Absolute value\n",
    "\n",
    "\n",
    "NumPy가 파이썬에 내장 된 산술 연산자를 이해하는 것처럼 파이썬의 내장 ***절대 값*** 함수도 이해합니다."
   ]
  },
  {
   "cell_type": "code",
   "execution_count": null,
   "metadata": {
    "collapsed": true
   },
   "outputs": [],
   "source": [
    "x = np.array([-2, -1, 0, 1, 2])\n",
    "abs(x)"
   ]
  },
  {
   "cell_type": "code",
   "execution_count": null,
   "metadata": {
    "collapsed": true
   },
   "outputs": [],
   "source": [
    "np.abs(x)"
   ]
  },
  {
   "cell_type": "markdown",
   "metadata": {},
   "source": [
    "이 ufunc는 또한 절대 값이 크기를 반환하는 복잡한 데이터를 처리 할 수 있습니다."
   ]
  },
  {
   "cell_type": "code",
   "execution_count": null,
   "metadata": {
    "collapsed": true,
    "scrolled": true
   },
   "outputs": [],
   "source": [
    "x = np.array([3 - 4j, 4 - 3j, 2 + 0j, 0 + 1j])\n",
    "np.abs(x)"
   ]
  },
  {
   "cell_type": "markdown",
   "metadata": {},
   "source": [
    "### 3.3 rigonometric functions\n",
    "\n",
    "\n",
    "NumPy는 유용한 ufuncs를 많이 제공하며, 데이터 과학자에게 가장 유용한 것은 ***삼각 함수*** 입니다.\n",
    "\n",
    "각도의 배열을 정의하는 것으로 시작합니다."
   ]
  },
  {
   "cell_type": "code",
   "execution_count": null,
   "metadata": {
    "collapsed": true
   },
   "outputs": [],
   "source": [
    "theta = np.linspace(0, np.pi, 3)"
   ]
  },
  {
   "cell_type": "markdown",
   "metadata": {},
   "source": [
    "\n",
    "이제 우리는 이러한 값에 대해 몇 가지 삼각 함수를 계산할 수 있습니다."
   ]
  },
  {
   "cell_type": "code",
   "execution_count": null,
   "metadata": {
    "collapsed": true
   },
   "outputs": [],
   "source": [
    "print(\"theta      = \", theta)\n",
    "print(\"sin(theta) = \", np.sin(theta))\n",
    "print(\"cos(theta) = \", np.cos(theta))\n",
    "print(\"tan(theta) = \", np.tan(theta))"
   ]
  },
  {
   "cell_type": "markdown",
   "metadata": {},
   "source": [
    "값은 기계 정밀도 내에서 계산되므로 0이어야하는 값이 항상 정확하게 0이되는 것은 아닙니다. 역 삼각 함수도 사용할 수 있습니다."
   ]
  },
  {
   "cell_type": "code",
   "execution_count": null,
   "metadata": {
    "collapsed": true
   },
   "outputs": [],
   "source": [
    "x = [-1, 0, 1]\n",
    "print(\"x         = \", x)\n",
    "print(\"arcsin(x) = \", np.arcsin(x))\n",
    "print(\"arccos(x) = \", np.arccos(x))\n",
    "print(\"arctan(x) = \", np.arctan(x))"
   ]
  },
  {
   "cell_type": "markdown",
   "metadata": {},
   "source": [
    "\n",
    "또한 매우 작은 입력으로 정밀도를 유지하는 데 유용한 몇 가지 특수 버전이 있습니다."
   ]
  },
  {
   "cell_type": "markdown",
   "metadata": {},
   "source": [
    "### 3.4 Exponents and logarithms\n",
    "NumPy ufunc에서 사용할 수있는 또 다른 일반적인 유형은***지수*** 입니다."
   ]
  },
  {
   "cell_type": "code",
   "execution_count": null,
   "metadata": {
    "collapsed": true
   },
   "outputs": [],
   "source": [
    "x = [1, 2, 3]\n",
    "print(\"x     =\", x)\n",
    "print(\"e^x   =\", np.exp(x))\n",
    "print(\"2^x   =\", np.exp2(x))\n",
    "print(\"3^x   =\", np.power(3, x))"
   ]
  },
  {
   "cell_type": "markdown",
   "metadata": {},
   "source": [
    "\n",
    "지수의 역함수 인 ***log***  함수도 사용할 수 있습니다. 기본 np.log는 자연 대수를 제공합니다. base-2 대수 또는 10 진수를 계산하는 것을 선호하는 경우 다음과 같이 사용할 수 있습니다."
   ]
  },
  {
   "cell_type": "code",
   "execution_count": null,
   "metadata": {
    "collapsed": true,
    "scrolled": true
   },
   "outputs": [],
   "source": [
    "x = [1, 2, 4, 10]\n",
    "print(\"x        =\", x)\n",
    "print(\"ln(x)    =\", np.log(x))\n",
    "print(\"log2(x)  =\", np.log2(x))\n",
    "print(\"log10(x) =\", np.log10(x))"
   ]
  },
  {
   "cell_type": "markdown",
   "metadata": {},
   "source": [
    "또한 매우 작은 입력으로 정밀도를 유지하는 데 유용한 몇 가지 특수 버전이 있습니다."
   ]
  },
  {
   "cell_type": "code",
   "execution_count": null,
   "metadata": {
    "collapsed": true
   },
   "outputs": [],
   "source": [
    "x = [0, 0.001, 0.01, 0.1]\n",
    "print(\"exp(x) - 1 =\", np.expm1(x))\n",
    "print(\"log(1 + x) =\", np.log1p(x))"
   ]
  },
  {
   "cell_type": "markdown",
   "metadata": {},
   "source": [
    "\n",
    "x가 매우 작 으면,이 함수는 원시 np.log 또는 np.exp가 사용되는 것보다 더 정확한 값을 제공합니다."
   ]
  },
  {
   "cell_type": "markdown",
   "metadata": {},
   "source": [
    "### 3.5 Specialized ufuncs\n",
    "\n",
    "\n",
    "NumPy에는 하이퍼 볼릭 삼각 함수, 비트 연산, 비교 연산자, 라디안에서도까지의 변환, 반올림 및 나머지 등 훨씬 더 많은 ufunc을 사용할 수 있습니다. NumPy 문서를 살펴보면 흥미로운 기능이 많이 있음을 알 수 있습니다.\n",
    "\n",
    "더 전문화되고 모호한 ufuncs를 위한 또 다른 훌륭한 소스는 **submodule scipy.special** 입니다. \n",
    "\n",
    "데이터에 대해 모호한 수학 함수를 계산하려는 경우 **scipy.special** 에서 구현됩니다. \n",
    "\n",
    "모두 나열 할 수있는 함수가 너무 많지만 다음 스 니펫은 통계 컨텍스트에 나타날 수있는 몇 가지를 보여줍니다."
   ]
  },
  {
   "cell_type": "code",
   "execution_count": 8,
   "metadata": {
    "collapsed": true
   },
   "outputs": [],
   "source": [
    "from scipy import special"
   ]
  },
  {
   "cell_type": "code",
   "execution_count": 9,
   "metadata": {},
   "outputs": [
    {
     "name": "stdout",
     "output_type": "stream",
     "text": [
      "gamma(x)     = [  1.00000000e+00   2.40000000e+01   3.62880000e+05]\n",
      "ln|gamma(x)| = [  0.           3.17805383  12.80182748]\n",
      "beta(x, 2)   = [ 0.5         0.03333333  0.00909091]\n"
     ]
    }
   ],
   "source": [
    "# Gamma functions (generalized factorials) and related functions\n",
    "x = [1, 5, 10]\n",
    "print(\"gamma(x)     =\", special.gamma(x))\n",
    "print(\"ln|gamma(x)| =\", special.gammaln(x))\n",
    "print(\"beta(x, 2)   =\", special.beta(x, 2))"
   ]
  },
  {
   "cell_type": "code",
   "execution_count": 10,
   "metadata": {},
   "outputs": [
    {
     "name": "stdout",
     "output_type": "stream",
     "text": [
      "erf(x)  = [ 0.          0.32862676  0.67780119  0.84270079]\n",
      "erfc(x) = [ 1.          0.67137324  0.32219881  0.15729921]\n",
      "erfinv(x) = [ 0.          0.27246271  0.73286908         inf]\n"
     ]
    }
   ],
   "source": [
    "# Error function (integral of Gaussian)\n",
    "# its complement, and its inverse\n",
    "x = np.array([0, 0.3, 0.7, 1.0])\n",
    "print(\"erf(x)  =\", special.erf(x))\n",
    "print(\"erfc(x) =\", special.erfc(x))\n",
    "print(\"erfinv(x) =\", special.erfinv(x))"
   ]
  },
  {
   "cell_type": "markdown",
   "metadata": {},
   "source": [
    "NumPy와 scipy.special에는 많은 ufunc가 많이 있습니다. 이 패키지의 문서는 온라인에서 구할 수 있기 때문에 \"감마 함수 python\"라인을 따르는 웹 검색은 일반적으로 관련 정보를 찾습니다."
   ]
  },
  {
   "cell_type": "markdown",
   "metadata": {},
   "source": [
    "## 4. Advanced Ufunc Features\n",
    "\n",
    "많은 NumPy 사용자는 완전한 기능 집합을 배우지 않고 ufunc를 사용합니다. 여기서 ufuncs의 몇 가지 특수 기능에 대해 설명하겠습니다."
   ]
  },
  {
   "cell_type": "markdown",
   "metadata": {},
   "source": [
    "###  4.1 Specifying output\n",
    "\n",
    "\n",
    "큰 계산의 경우 계산 결과가 저장 될 배열을 지정할 수있는 것이 유용 할 때도 있습니다. 임시 배열을 만드는 대신 계산 결과를 원하는 메모리 위치에 직접 쓸 수 있습니다. 모든 ufunc의 경우, 함수의 out 인수를 사용하여 수행 할 수 있습니다."
   ]
  },
  {
   "cell_type": "code",
   "execution_count": 11,
   "metadata": {},
   "outputs": [
    {
     "name": "stdout",
     "output_type": "stream",
     "text": [
      "[  0.  10.  20.  30.  40.]\n"
     ]
    }
   ],
   "source": [
    "x = np.arange(5)\n",
    "\n",
    "#  가상 메모리 할당\n",
    "y = np.empty(5)\n",
    "\n",
    "np.multiply(x, 10, out=y)\n",
    "print(y)"
   ]
  },
  {
   "cell_type": "markdown",
   "metadata": {},
   "source": [
    "\n",
    "배열보기에서도 사용할 수 있습니다. 예를 들어, 계산 결과를 지정된 배열의 다른 모든 요소에 쓸 수 있습니다."
   ]
  },
  {
   "cell_type": "code",
   "execution_count": 17,
   "metadata": {},
   "outputs": [
    {
     "name": "stdout",
     "output_type": "stream",
     "text": [
      "[  2.   0.   4.   0.   8.   0.  16.   0.  32.   0.]\n"
     ]
    }
   ],
   "source": [
    "y = np.zeros(10)\n",
    "np.power(2, x, out=y[::2])\n",
    "print(y)"
   ]
  },
  {
   "cell_type": "code",
   "execution_count": 18,
   "metadata": {},
   "outputs": [
    {
     "data": {
      "text/plain": [
       "array([ 0.,  0.,  0.,  0.,  0.,  0.,  0.,  0.,  0.,  0.])"
      ]
     },
     "execution_count": 18,
     "metadata": {},
     "output_type": "execute_result"
    }
   ],
   "source": [
    "np.zeros(10)"
   ]
  },
  {
   "cell_type": "markdown",
   "metadata": {},
   "source": [
    "\n",
    "\" y [:: 2] = 2 ^ x \" 대신에 \"2 ^ x\" 의 결과를 저장하는 임시 배열을 생성 한 다음 그 값을 y 배열에 복사하는 두 번째 연산이 생성됩니다 . \n",
    "\n",
    "이것은 작은 계산에서는 큰 차이가 없지만, 매우 큰 배열의 경우에는 out 인수를주의해서 사용하면 메모리를 절약 할 수 있습니다."
   ]
  },
  {
   "cell_type": "markdown",
   "metadata": {},
   "source": [
    "### 4.2 Aggregates (집계)\n",
    "\n",
    "\n",
    "이진 ufunc에는 개체에서 직접 계산할 수있는 흥미있는 집계가 있습니다. 예를 들어, 특정 연산을 사용하여 배열을 축소하려면 ufunc의 reduce 메소드를 사용할 수 있습니다. reduce는 하나의 결과 만 남을 때까지 배열의 요소에 반복적으로 주어진 연산을 적용합니다.\n",
    "\n",
    "예를 들어 **add** ufunc에서 **reduce** 를 호출하면 배열의 모든 요소의 ***합계*** 가 반환됩니다."
   ]
  },
  {
   "cell_type": "code",
   "execution_count": 19,
   "metadata": {},
   "outputs": [
    {
     "data": {
      "text/plain": [
       "15"
      ]
     },
     "execution_count": 19,
     "metadata": {},
     "output_type": "execute_result"
    }
   ],
   "source": [
    "x = np.arange(1, 6)\n",
    "\n",
    "# 1 + 2 + 3 + 4 + 5\n",
    "np.add.reduce(x)"
   ]
  },
  {
   "cell_type": "markdown",
   "metadata": {},
   "source": [
    "비슷하게 **multiply** ufunc에서 **reduce** 를 호출하면 모든 배열 요소의 ***곱*** 이 생성됩니다."
   ]
  },
  {
   "cell_type": "code",
   "execution_count": 20,
   "metadata": {},
   "outputs": [
    {
     "data": {
      "text/plain": [
       "120"
      ]
     },
     "execution_count": 20,
     "metadata": {},
     "output_type": "execute_result"
    }
   ],
   "source": [
    "# 1 * 2 * 3 * 4 * 5\n",
    "np.multiply.reduce(x)"
   ]
  },
  {
   "cell_type": "markdown",
   "metadata": {},
   "source": [
    "계산의 모든 중간 결과를 저장 [누적] 하려면 **accumulate** 를 사용할 수 있습니다."
   ]
  },
  {
   "cell_type": "code",
   "execution_count": 21,
   "metadata": {
    "scrolled": true
   },
   "outputs": [
    {
     "data": {
      "text/plain": [
       "array([ 1,  3,  6, 10, 15], dtype=int32)"
      ]
     },
     "execution_count": 21,
     "metadata": {},
     "output_type": "execute_result"
    }
   ],
   "source": [
    "np.add.accumulate(x)"
   ]
  },
  {
   "cell_type": "code",
   "execution_count": 22,
   "metadata": {},
   "outputs": [
    {
     "data": {
      "text/plain": [
       "array([  1,   2,   6,  24, 120], dtype=int32)"
      ]
     },
     "execution_count": 22,
     "metadata": {},
     "output_type": "execute_result"
    }
   ],
   "source": [
    "np.multiply.accumulate(x)"
   ]
  },
  {
   "cell_type": "markdown",
   "metadata": {},
   "source": [
    "Note that for these particular cases, there are dedicated NumPy functions to compute the results (np.sum, np.prod, np.cumsum, np.cumprod), which we'll explore in Aggregations: Min, Max, and Everything In Between."
   ]
  },
  {
   "cell_type": "markdown",
   "metadata": {},
   "source": [
    "### 4.3 Outer products\n",
    "\n",
    "마지막으로, 모든 ufunc는 외부 메소드를 사용하여 두 개의 다른 입력의 모든 쌍의 출력을 계산할 수 있습니다. 이렇게하면 한 줄에서 곱셈 테이블을 만드는 것과 같은 일을 할 수 있습니다."
   ]
  },
  {
   "cell_type": "code",
   "execution_count": 16,
   "metadata": {},
   "outputs": [
    {
     "data": {
      "text/plain": [
       "array([[ 1,  2,  3,  4,  5],\n",
       "       [ 2,  4,  6,  8, 10],\n",
       "       [ 3,  6,  9, 12, 15],\n",
       "       [ 4,  8, 12, 16, 20],\n",
       "       [ 5, 10, 15, 20, 25]])"
      ]
     },
     "execution_count": 16,
     "metadata": {},
     "output_type": "execute_result"
    }
   ],
   "source": [
    "x = np.arange(1, 6)\n",
    "np.multiply.outer(x, x)"
   ]
  },
  {
   "cell_type": "markdown",
   "metadata": {},
   "source": [
    "The ufunc.at and ufunc.reduceat methods, which we'll explore in Fancy Indexing, are very helpful as well.\n",
    "\n",
    "Another extremely useful feature of ufuncs is the ability to operate between arrays of different sizes and shapes, a set of operations known as broadcasting. This subject is important enough that we will devote a whole section to it (see Computation on Arrays: Broadcasting)."
   ]
  },
  {
   "cell_type": "markdown",
   "metadata": {},
   "source": [
    "## 5. Ufuncs: Learning More\n",
    "\n",
    "More information on universal functions (including the full list of available functions) can be found on the NumPy and SciPy documentation websites.\n",
    "\n",
    "Recall that you can also access information directly from within IPython by importing the packages and using IPython's tab-completion and help (?) functionality, as described in Help and Documentation in IPython."
   ]
  },
  {
   "cell_type": "code",
   "execution_count": 25,
   "metadata": {},
   "outputs": [
    {
     "name": "stdout",
     "output_type": "stream",
     "text": [
      "[[10 20 30 40]\n",
      " [50 60 70 80]]\n"
     ]
    }
   ],
   "source": [
    "print(np.array([10,20,30,40,50,60,70,80]).reshape(2,4))"
   ]
  },
  {
   "cell_type": "code",
   "execution_count": null,
   "metadata": {
    "collapsed": true
   },
   "outputs": [],
   "source": [
    "m = np.array([[ 0,  1,  2,  3,  4],\n",
    "              [ 5,  6,  7,  8,  9],\n",
    "              [10, 11, 12, 13, 14]])\n",
    "이 행렬에서 값 7 을 인덱싱한다.\n",
    "이 행렬에서 값 14 을 인덱싱한다.\n",
    "이 행렬에서 배열 [6, 7] 을 슬라이싱한다.\n",
    "이 행렬에서 배열 [7, 12] 을 슬라이싱한다.\n",
    "이 행렬에서 배열 [[3, 4], [8, 9]] 을 슬라이싱한다."
   ]
  },
  {
   "cell_type": "code",
   "execution_count": 27,
   "metadata": {},
   "outputs": [],
   "source": [
    "m = np.array([[ 0,  1,  2,  3,  4],\n",
    "              [ 5,  6,  7,  8,  9],\n",
    "              [10, 11, 12, 13, 14]])"
   ]
  },
  {
   "cell_type": "code",
   "execution_count": 28,
   "metadata": {},
   "outputs": [
    {
     "data": {
      "text/plain": [
       "array([[ 0,  1,  2,  3,  4],\n",
       "       [ 5,  6,  7,  8,  9],\n",
       "       [10, 11, 12, 13, 14]])"
      ]
     },
     "execution_count": 28,
     "metadata": {},
     "output_type": "execute_result"
    }
   ],
   "source": [
    "m"
   ]
  },
  {
   "cell_type": "code",
   "execution_count": 31,
   "metadata": {},
   "outputs": [
    {
     "data": {
      "text/plain": [
       "7"
      ]
     },
     "execution_count": 31,
     "metadata": {},
     "output_type": "execute_result"
    }
   ],
   "source": [
    "m[1,2]"
   ]
  },
  {
   "cell_type": "code",
   "execution_count": 33,
   "metadata": {},
   "outputs": [
    {
     "data": {
      "text/plain": [
       "14"
      ]
     },
     "execution_count": 33,
     "metadata": {},
     "output_type": "execute_result"
    }
   ],
   "source": [
    "m[2,-1]"
   ]
  },
  {
   "cell_type": "code",
   "execution_count": 36,
   "metadata": {},
   "outputs": [
    {
     "name": "stdout",
     "output_type": "stream",
     "text": [
      "[6 7]\n"
     ]
    }
   ],
   "source": [
    "print(m[1,1:3])"
   ]
  },
  {
   "cell_type": "code",
   "execution_count": 38,
   "metadata": {},
   "outputs": [
    {
     "name": "stdout",
     "output_type": "stream",
     "text": [
      "[ 7 12]\n"
     ]
    }
   ],
   "source": [
    "print(m[1:3,2])"
   ]
  },
  {
   "cell_type": "code",
   "execution_count": 41,
   "metadata": {
    "scrolled": true
   },
   "outputs": [
    {
     "name": "stdout",
     "output_type": "stream",
     "text": [
      "[[3 4]\n",
      " [8 9]]\n"
     ]
    }
   ],
   "source": [
    "print(m[0:2,3:])"
   ]
  },
  {
   "cell_type": "code",
   "execution_count": null,
   "metadata": {
    "collapsed": true
   },
   "outputs": [],
   "source": [
    "연습 문제 3¶\n",
    "다음 행렬과 같은 배열이 있다.\n",
    "\n",
    "x = np.array([1, 2, 3, 4, 5, 6, 7, 8, 9, 10,\n",
    "              11, 12, 13, 14, 15, 16, 17, 18, 19, 20])\n",
    "이 배열에서 3의 배수를 찾아라.\n",
    "이 배열에서 4로 나누면 1이 남는 수를 찾아라.\n",
    "이 배열에서 3으로 나누면 나누어지고 4로 나누면 1이 남는 수를 찾아라."
   ]
  },
  {
   "cell_type": "code",
   "execution_count": 42,
   "metadata": {
    "collapsed": true
   },
   "outputs": [],
   "source": [
    "x = np.array([1, 2, 3, 4, 5, 6, 7, 8, 9, 10,\n",
    "              11, 12, 13, 14, 15, 16, 17, 18, 19, 20])"
   ]
  },
  {
   "cell_type": "code",
   "execution_count": 46,
   "metadata": {},
   "outputs": [
    {
     "data": {
      "text/plain": [
       "array([ 3,  6,  9, 12, 15, 18])"
      ]
     },
     "execution_count": 46,
     "metadata": {},
     "output_type": "execute_result"
    }
   ],
   "source": [
    "x[x % 3 == 0]"
   ]
  },
  {
   "cell_type": "code",
   "execution_count": 70,
   "metadata": {},
   "outputs": [
    {
     "data": {
      "text/plain": [
       "array([ 1,  5,  9, 13, 17])"
      ]
     },
     "execution_count": 70,
     "metadata": {},
     "output_type": "execute_result"
    }
   ],
   "source": [
    "x[x % 4 == 1]"
   ]
  },
  {
   "cell_type": "code",
   "execution_count": 75,
   "metadata": {},
   "outputs": [
    {
     "data": {
      "text/plain": [
       "array([9])"
      ]
     },
     "execution_count": 75,
     "metadata": {},
     "output_type": "execute_result"
    }
   ],
   "source": [
    "x[(x % 3 == 0)&(x % 4 == 1)]"
   ]
  },
  {
   "cell_type": "code",
   "execution_count": null,
   "metadata": {
    "collapsed": true
   },
   "outputs": [],
   "source": []
  },
  {
   "cell_type": "code",
   "execution_count": null,
   "metadata": {
    "collapsed": true
   },
   "outputs": [],
   "source": []
  }
 ],
 "metadata": {
  "kernelspec": {
   "display_name": "Python 3",
   "language": "python",
   "name": "python3"
  },
  "language_info": {
   "codemirror_mode": {
    "name": "ipython",
    "version": 3
   },
   "file_extension": ".py",
   "mimetype": "text/x-python",
   "name": "python",
   "nbconvert_exporter": "python",
   "pygments_lexer": "ipython3",
   "version": "3.6.3"
  }
 },
 "nbformat": 4,
 "nbformat_minor": 2
}
