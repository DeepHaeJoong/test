{
 "cells": [
  {
   "cell_type": "markdown",
   "metadata": {
    "collapsed": true
   },
   "source": [
    "# Numpy란?\n",
    "\n",
    "데이터 과학을 공부하기 위해서는 수치 배열 데이터를 다루는데 능숙해지는 것이 필요합니다. \n",
    "\n",
    "파이썬에서는 Numpy(넘파이)와 Pandas(판다스)를 통해 수치 배열 데이터를 잘 다룰 수 있다고 생각합니다. 그렇다면 이 두개의 라이브러리에 익숙해지는 것이 필요하겠지요?\n",
    "\n",
    "오늘은 Numpy에 대한 기초 내용을 정리해 보도록 하겠습니다."
   ]
  },
  {
   "cell_type": "markdown",
   "metadata": {},
   "source": [
    "## 1. Numpy 특징\n",
    "\n",
    "벡터, 메트릭스, 고수준의 배열은 과학계산 컴퓨팅에 있어 필수 도구라 할 수 있습니다. \n",
    "입력 값 세트를 통해 계산이 반복될 때, 배열로 데이터를 나타내는 것이 자연스럽고 장점이 많습니다.\n",
    "\n",
    "파이썬 과학계산 환경에서, 배열을 다루기 좋은 구조를 제공하는 라이브러리가 Numpy입니다. \n",
    "Numpy의 핵심 기능은 C로 구현되어 있습니다. \\\n",
    "그래서 배열을 계산하고 처리하는데 효율적인 기능들을 제공하고, 속도 또한 빠릅니다. \n",
    "\n",
    "첫 눈에 보기에 Numpy 배열은 파이썬 리스트 데이터 구조와 유사해 보입니다. \n",
    "하지만 중요한 차이점은 파이썬 리스트는 다양한 객체를 담을 수 있는 컨테이너인데 반해 Numpy 배열은 동일한 자료형만 담을 수 있다는 점입니다.\n",
    "\n",
    "하지만, Numpy에는 고수준의 데이터 분석 기능을 제공하지는 않습니다. \n",
    "그러므로, 나중에 Pandas 같은 도구를 사용해 데이터 분석을 수행하는 것이 효과적입니다. \n",
    "\n",
    "## 2. intall\n",
    "\n",
    "**아나콘다**와 같은 패키지를 설치했을 경우에는 numpy가 함께 설치가 될 것입니다. \n",
    "별도로 설치할 경우에 통상 pip를 사용해서 아래와 같이 설치합니다. \n",
    "\n",
    "> pip install numpy\n",
    "\n",
    "pip는 파이썬 패키지를 설치할 때 가장 많이 사용하는 툴입니다. \n",
    "\n",
    "## 3. 라이브러리 읽어들이기\n",
    "\n",
    "Numpy 읽어들이기\n",
    "> import numpy as np\n",
    "\n",
    "## 4. A Python List Is More Than Just a List\n",
    "\n",
    "이제 많은 파이썬 객체를 저장하는 파이썬 데이터 구조를 사용할 때 어떻게되는지 생각해 보자. 파이썬에서 표준 mutable multi-element 컨테이너가리스트입니다. 다음과 같이 정수 목록을 만들 수 있습니다."
   ]
  },
  {
   "cell_type": "code",
   "execution_count": 2,
   "metadata": {},
   "outputs": [
    {
     "data": {
      "text/plain": [
       "[0, 1, 2, 3, 4, 5, 6, 7, 8, 9]"
      ]
     },
     "execution_count": 2,
     "metadata": {},
     "output_type": "execute_result"
    }
   ],
   "source": [
    "L = list(range(10))\n",
    "L"
   ]
  },
  {
   "cell_type": "code",
   "execution_count": 4,
   "metadata": {},
   "outputs": [
    {
     "data": {
      "text/plain": [
       "int"
      ]
     },
     "execution_count": 4,
     "metadata": {},
     "output_type": "execute_result"
    }
   ],
   "source": [
    "type(L[0])"
   ]
  },
  {
   "cell_type": "markdown",
   "metadata": {},
   "source": [
    "또는 마찬가지로 문자열 목록 :"
   ]
  },
  {
   "cell_type": "code",
   "execution_count": 5,
   "metadata": {},
   "outputs": [
    {
     "data": {
      "text/plain": [
       "['0', '1', '2', '3', '4', '5', '6', '7', '8', '9']"
      ]
     },
     "execution_count": 5,
     "metadata": {},
     "output_type": "execute_result"
    }
   ],
   "source": [
    "L2 = [str(c) for c in L]\n",
    "L2"
   ]
  },
  {
   "cell_type": "code",
   "execution_count": 6,
   "metadata": {},
   "outputs": [
    {
     "data": {
      "text/plain": [
       "str"
      ]
     },
     "execution_count": 6,
     "metadata": {},
     "output_type": "execute_result"
    }
   ],
   "source": [
    "type(L2[0])"
   ]
  },
  {
   "cell_type": "markdown",
   "metadata": {},
   "source": [
    "파이썬의 동적 타이핑 때문에  heterogeneous(다양한) list 를 생성 할 수도 있습니다 :"
   ]
  },
  {
   "cell_type": "code",
   "execution_count": 7,
   "metadata": {},
   "outputs": [
    {
     "data": {
      "text/plain": [
       "[bool, str, float, int]"
      ]
     },
     "execution_count": 7,
     "metadata": {},
     "output_type": "execute_result"
    }
   ],
   "source": [
    "L3 = [True, \"2\", 3.0, 4]\n",
    "[type(item) for item in L3]"
   ]
  },
  {
   "cell_type": "markdown",
   "metadata": {},
   "source": [
    "하지만 이러한 유연성에는 비용이 들게됩니다. 이러한 유연한 유형을 허용하려면 목록의 각 항목에는 자체 유형 정보, 참조 횟수 및 기타 정보가 있어야합니다. 즉, 각 항목은 완전한 Python 객체입니다. 모든 변수가 같은 유형 인 특별한 경우에는이 정보의 대부분이 중복됩니다. 고정 유형 배열에 데이터를 저장하는 것이 훨씬 더 효율적일 수 있습니다. 동적 유형 목록과 고정 유형 (NumPy 형식) 배열의 차이점은 다음 그림에 설명되어 있습니다.\n",
    "![](Numpy_list.png)"
   ]
  },
  {
   "cell_type": "markdown",
   "metadata": {},
   "source": [
    "구현 레벨에서, 배열은 기본적으로 하나의 인접한 데이터 블록에 대한 단일 포인터를 포함합니다. 반면에 파이썬리스트는 포인터 블록에 대한 포인터를 포함하며, 각 포인터는 앞에서 본 파이썬 정수와 같은 완전한 파이썬 객체를 가리킨다. 다시 말해, 목록의 장점은 유연성입니다. 각 목록 요소는 데이터와 유형 정보가 모두 포함 된 전체 구조이기 때문에 원하는 유형의 데이터로 채울 수 있습니다. 고정형 NumPy 스타일 어레이는 이러한 유연성이 없지만 데이터를 저장하고 조작하는 데 훨씬 효율적입니다."
   ]
  },
  {
   "cell_type": "markdown",
   "metadata": {},
   "source": [
    "## 5. Fixed-Type Arrays in Python\n",
    "\n",
    "파이썬은 효율적인 고정 타입 데이터 버퍼에 데이터를 저장하기위한 여러 가지 옵션을 제공합니다. 내장 된 배열 모듈 (Python 3.3부터 사용 가능)을 사용하여 균일 한 형태의 조밀 한 배열을 생성 할 수 있습니다 :"
   ]
  },
  {
   "cell_type": "code",
   "execution_count": 9,
   "metadata": {},
   "outputs": [
    {
     "data": {
      "text/plain": [
       "array('i', [0, 1, 2, 3, 4, 5, 6, 7, 8, 9])"
      ]
     },
     "execution_count": 9,
     "metadata": {},
     "output_type": "execute_result"
    }
   ],
   "source": [
    "import array\n",
    "L = list(range(10))\n",
    "A = array.array('i', L)\n",
    "A"
   ]
  },
  {
   "cell_type": "markdown",
   "metadata": {},
   "source": [
    "여기서 'i'는 내용이 정수임을 나타내는 유형 코드입니다.\n",
    "\n",
    "그러나 NumPy 패키지의 ndarray 객체가 훨씬 더 유용합니다. Python의 배열 객체는 배열 기반 데이터의 효율적인 저장을 제공하지만 NumPy는 이러한 데이터에 대한 효율적인 연산을 추가합니다. 우리는 이후 섹션에서 이러한 작업을 탐색합니다. NumPy 배열을 만드는 몇 가지 방법을 보여 드리겠습니다."
   ]
  },
  {
   "cell_type": "code",
   "execution_count": 12,
   "metadata": {
    "collapsed": true
   },
   "outputs": [],
   "source": [
    "import numpy as np"
   ]
  },
  {
   "cell_type": "markdown",
   "metadata": {},
   "source": [
    "## 6. Creating Arrays from Python Lists\n",
    "\n",
    "First, we can use np.array to create arrays from Python lists:"
   ]
  },
  {
   "cell_type": "code",
   "execution_count": 14,
   "metadata": {},
   "outputs": [
    {
     "data": {
      "text/plain": [
       "array([1, 4, 2, 5, 3])"
      ]
     },
     "execution_count": 14,
     "metadata": {},
     "output_type": "execute_result"
    }
   ],
   "source": [
    "# integer array:\n",
    "np.array([1, 4, 2, 5, 3])"
   ]
  },
  {
   "cell_type": "markdown",
   "metadata": {},
   "source": [
    "\n",
    "파이썬리스트와 달리 NumPy는 모두 같은 타입을 포함하는 배열로 제한된다는 것을 기억하십시오. 형식이 일치하지 않으면 가능한 경우 NumPy가 업 캐스팅합니다 (여기에서 정수는 부동 소수점에 상향 캐스트됩니다)."
   ]
  },
  {
   "cell_type": "code",
   "execution_count": 15,
   "metadata": {},
   "outputs": [
    {
     "data": {
      "text/plain": [
       "array([ 3.14,  4.  ,  2.  ,  3.  ])"
      ]
     },
     "execution_count": 15,
     "metadata": {},
     "output_type": "execute_result"
    }
   ],
   "source": [
    "np.array([3.14, 4, 2, 3])"
   ]
  },
  {
   "cell_type": "markdown",
   "metadata": {},
   "source": [
    "결과 배열의 데이터 유형을 명시 적으로 설정하려면 dtype 키워드를 사용할 수 있습니다."
   ]
  },
  {
   "cell_type": "code",
   "execution_count": 16,
   "metadata": {},
   "outputs": [
    {
     "data": {
      "text/plain": [
       "array([ 1.,  2.,  3.,  4.], dtype=float32)"
      ]
     },
     "execution_count": 16,
     "metadata": {},
     "output_type": "execute_result"
    }
   ],
   "source": [
    "np.array([1, 2, 3, 4], dtype='float32')"
   ]
  },
  {
   "cell_type": "markdown",
   "metadata": {},
   "source": [
    "마지막으로 파이썬리스트와 달리 NumPy 배열은 명시 적으로 다차원적일 수있다. 다음은 목록 목록을 사용하여 다차원 배열을 초기화하는 한 가지 방법입니다."
   ]
  },
  {
   "cell_type": "code",
   "execution_count": 18,
   "metadata": {},
   "outputs": [
    {
     "data": {
      "text/plain": [
       "array([[2, 3, 4],\n",
       "       [4, 5, 6],\n",
       "       [6, 7, 8]])"
      ]
     },
     "execution_count": 18,
     "metadata": {},
     "output_type": "execute_result"
    }
   ],
   "source": [
    "# nested lists result in multi-dimensional arrays\n",
    "np.array([range(i, i + 3) for i in [2, 4, 6]])"
   ]
  },
  {
   "cell_type": "markdown",
   "metadata": {},
   "source": [
    "내부 목록은 결과로 생성 된 2 차원 배열의 행으로 처리됩니다."
   ]
  },
  {
   "cell_type": "markdown",
   "metadata": {},
   "source": [
    "## 7. Creating Arrays from Scratch\n",
    "\n",
    "특히 큰 배열의 경우 NumPy에 내장 된 루틴을 사용하여 처음부터 배열을 만드는 것이 더 효율적입니다. 다음은 몇 가지 예입니다."
   ]
  },
  {
   "cell_type": "code",
   "execution_count": 19,
   "metadata": {},
   "outputs": [
    {
     "data": {
      "text/plain": [
       "array([0, 0, 0, 0, 0, 0, 0, 0, 0, 0])"
      ]
     },
     "execution_count": 19,
     "metadata": {},
     "output_type": "execute_result"
    }
   ],
   "source": [
    "# Create a length-10 integer array filled with zeros\n",
    "np.zeros(10, dtype=int)"
   ]
  },
  {
   "cell_type": "code",
   "execution_count": 20,
   "metadata": {},
   "outputs": [
    {
     "data": {
      "text/plain": [
       "array([[ 1.,  1.,  1.,  1.,  1.],\n",
       "       [ 1.,  1.,  1.,  1.,  1.],\n",
       "       [ 1.,  1.,  1.,  1.,  1.]])"
      ]
     },
     "execution_count": 20,
     "metadata": {},
     "output_type": "execute_result"
    }
   ],
   "source": [
    "# Create a 3x5 floating-point array filled with ones\n",
    "np.ones((3, 5), dtype=float)"
   ]
  },
  {
   "cell_type": "code",
   "execution_count": 22,
   "metadata": {},
   "outputs": [
    {
     "data": {
      "text/plain": [
       "array([[ 3.14,  3.14,  3.14,  3.14,  3.14],\n",
       "       [ 3.14,  3.14,  3.14,  3.14,  3.14],\n",
       "       [ 3.14,  3.14,  3.14,  3.14,  3.14]])"
      ]
     },
     "execution_count": 22,
     "metadata": {},
     "output_type": "execute_result"
    }
   ],
   "source": [
    "# Create a 3x5 array filled with 3.14\n",
    "np.full((3, 5), 3.14)"
   ]
  },
  {
   "cell_type": "code",
   "execution_count": 23,
   "metadata": {},
   "outputs": [
    {
     "data": {
      "text/plain": [
       "array([ 0,  2,  4,  6,  8, 10, 12, 14, 16, 18])"
      ]
     },
     "execution_count": 23,
     "metadata": {},
     "output_type": "execute_result"
    }
   ],
   "source": [
    "# Create an array filled with a linear sequence\n",
    "# Starting at 0, ending at 20, stepping by 2\n",
    "# (this is similar to the built-in range() function)\n",
    "np.arange(0, 20, 2)"
   ]
  },
  {
   "cell_type": "code",
   "execution_count": 25,
   "metadata": {},
   "outputs": [
    {
     "data": {
      "text/plain": [
       "array([ 0.  ,  0.25,  0.5 ,  0.75,  1.  ])"
      ]
     },
     "execution_count": 25,
     "metadata": {},
     "output_type": "execute_result"
    }
   ],
   "source": [
    "# Create an array of five values evenly spaced between 0 and 1\n",
    "np.linspace(0, 1, 5)"
   ]
  },
  {
   "cell_type": "code",
   "execution_count": 26,
   "metadata": {},
   "outputs": [
    {
     "data": {
      "text/plain": [
       "array([[ 0.39961022,  0.32797097,  0.33531267],\n",
       "       [ 0.90575737,  0.03796925,  0.47778603],\n",
       "       [ 0.48018254,  0.52648096,  0.70524004]])"
      ]
     },
     "execution_count": 26,
     "metadata": {},
     "output_type": "execute_result"
    }
   ],
   "source": [
    "# Create a 3x3 array of uniformly distributed\n",
    "# random values between 0 and 1\n",
    "np.random.random((3, 3))"
   ]
  },
  {
   "cell_type": "code",
   "execution_count": 27,
   "metadata": {},
   "outputs": [
    {
     "data": {
      "text/plain": [
       "array([[ 0.88909146, -1.44755854, -0.56643626],\n",
       "       [ 1.42207088, -0.85105596,  0.69405047],\n",
       "       [-0.89963943,  0.61522965,  0.78009347]])"
      ]
     },
     "execution_count": 27,
     "metadata": {},
     "output_type": "execute_result"
    }
   ],
   "source": [
    "# Create a 3x3 array of normally distributed random values\n",
    "# with mean 0 and standard deviation 1\n",
    "np.random.normal(0, 1, (3, 3))"
   ]
  },
  {
   "cell_type": "code",
   "execution_count": 28,
   "metadata": {},
   "outputs": [
    {
     "data": {
      "text/plain": [
       "array([[3, 6, 5],\n",
       "       [6, 1, 8],\n",
       "       [0, 6, 7]])"
      ]
     },
     "execution_count": 28,
     "metadata": {},
     "output_type": "execute_result"
    }
   ],
   "source": [
    "# Create a 3x3 array of random integers in the interval [0, 10)\n",
    "np.random.randint(0, 10, (3, 3))"
   ]
  },
  {
   "cell_type": "code",
   "execution_count": 29,
   "metadata": {},
   "outputs": [
    {
     "data": {
      "text/plain": [
       "array([[ 1.,  0.,  0.],\n",
       "       [ 0.,  1.,  0.],\n",
       "       [ 0.,  0.,  1.]])"
      ]
     },
     "execution_count": 29,
     "metadata": {},
     "output_type": "execute_result"
    }
   ],
   "source": [
    "# Create a 3x3 identity matrix\n",
    "np.eye(3)"
   ]
  },
  {
   "cell_type": "code",
   "execution_count": 30,
   "metadata": {},
   "outputs": [
    {
     "data": {
      "text/plain": [
       "array([ 1.,  1.,  1.])"
      ]
     },
     "execution_count": 30,
     "metadata": {},
     "output_type": "execute_result"
    }
   ],
   "source": [
    "# Create an uninitialized array of three integers\n",
    "# The values will be whatever happens to already exist at that memory location\n",
    "np.empty(3)"
   ]
  },
  {
   "cell_type": "markdown",
   "metadata": {},
   "source": [
    "## 8. NumPy Standard Data Types\n",
    "\n",
    "NumPy 배열은 단일 유형의 값을 포함하므로 해당 유형과 해당 제한에 대한 자세한 지식을 갖는 것이 중요합니다. NumPy는 C로 작성 되었기 때문에 C, Fortran 및 기타 관련 언어 사용자에게 익숙합니다.\n",
    "\n",
    "표준 NumPy 데이터 유형은 다음 표에 나열되어 있습니다. 배열을 만들 때 문자열을 사용하여 배열을 지정할 수 있습니다.\n"
   ]
  }
 ],
 "metadata": {
  "kernelspec": {
   "display_name": "Python 3",
   "language": "python",
   "name": "python3"
  },
  "language_info": {
   "codemirror_mode": {
    "name": "ipython",
    "version": 3
   },
   "file_extension": ".py",
   "mimetype": "text/x-python",
   "name": "python",
   "nbconvert_exporter": "python",
   "pygments_lexer": "ipython3",
   "version": "3.6.3"
  }
 },
 "nbformat": 4,
 "nbformat_minor": 2
}
